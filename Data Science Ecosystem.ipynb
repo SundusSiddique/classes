{
 "cells": [
  {
   "cell_type": "markdown",
   "id": "ae2dd2b5",
   "metadata": {},
   "source": [
    "**Data Science Tools and Ecosystem**"
   ]
  },
  {
   "cell_type": "markdown",
   "id": "cba7d8d1",
   "metadata": {},
   "source": [
    "In the past few years, data science is emerged as critical field having many applications in every fields like health,business etc.Due to the explosion of tools, technologies, and frameworks created to enable data science workflows, it is now simpler than ever to collect, examine, and derive insights from large-scale data sets. In this notebook, we'll give an overview of the numerous technologies and tools that make up the data science ecosystem, including well-known programming languages, frameworks, libraries, and other tools and resources that data scientists frequently use."
   ]
  },
  {
   "cell_type": "markdown",
   "id": "2721a91d",
   "metadata": {},
   "source": [
    "**Objectives:**\n",
    "- List popular languages for Data Science \n",
    "- Identify commonly used libraries in Data Science \n",
    "- Describe popular open source tools for Data Science development \n",
    "- Demonstrate the evaluation of basic arithmetic expressions in Python"
   ]
  },
  {
   "cell_type": "markdown",
   "id": "041f736f",
   "metadata": {},
   "source": [
    "Some of the common languages that data scientists use are:\n",
    "1. PYTHON: Python is most widely use programming language for data science. It is easy to learn and has vast number of libraries.\n",
    "2. R: This language is popular among statisticians and data scientist. It is known for its powerful data visualization capabilities.\n",
    "3. SQL: A database management language called SQL (Structured Query Language) is used to query and modify data that is stored in relational databases.\n",
    "4. JAVA: Java is a common general-purpose programming language used to develop scalable and powerful applications.\n",
    "5. JULIA: Data scientists are increasingly using Julia, a relatively new programming language, because of its efficiency and usability. It is intended to be a high-level, high-performance language that is appropriate for computational science and mathematics."
   ]
  },
  {
   "cell_type": "markdown",
   "id": "51503214",
   "metadata": {},
   "source": [
    "Some of the commonly used libraries used by Data Scientists include:\n",
    "1. NumPy: A Python module called NumPy offers assistance with big, multi-dimensional arrays and matrices as well as a variety of mathematical operations.\n",
    "2. Pandas: Pandas is a Python library that provides data manipulation and analysis tools.\n",
    "3. Matplotlib: Matplotlib allows users to build interactive, animated, and static visualisations. Line plots, scatter plots, bar charts, and histograms are just a few of the many visualisation possibilities it offers.\n",
    "4. TensorFlow: TensorFlow is an open-source machine learning library developed by Google."
   ]
  },
  {
   "cell_type": "markdown",
   "id": "3ada0916",
   "metadata": {},
   "source": [
    "|Data Science Tools|\n",
    "|------------------|\n",
    "|Jupyter Notebook|\n",
    "|RStudio|\n",
    "|Spyder|"
   ]
  },
  {
   "cell_type": "markdown",
   "id": "43eaecd4",
   "metadata": {},
   "source": [
    "**Below are a few examples of evaluating arithmetic expressions in Python:**\n",
    "1. Addition: '2 + 3' will evaluate to '5'\n",
    "2. Subtraction: '10 - 4' will evaluate to '6'\n",
    "3. Multiplication: '5 * 6' will evaluate to '30'\n",
    "4. Division: '10 / 2' will evaluate to '5.0' \n",
    "5. Parentheses: '(2 + 3) * 4' will evaluate to '20' "
   ]
  },
  {
   "cell_type": "code",
   "execution_count": 1,
   "id": "e402e3df",
   "metadata": {},
   "outputs": [
    {
     "data": {
      "text/plain": [
       "17"
      ]
     },
     "execution_count": 1,
     "metadata": {},
     "output_type": "execute_result"
    }
   ],
   "source": [
    "(3*4)+5 #This a simple arithmetic expression to mutiply then add integers"
   ]
  },
  {
   "cell_type": "code",
   "execution_count": 2,
   "id": "42d21a0a",
   "metadata": {},
   "outputs": [
    {
     "name": "stdout",
     "output_type": "stream",
     "text": [
      "3.3333333333333335\n"
     ]
    }
   ],
   "source": [
    "# This will convert 200 minutes to hours by dividing by 60\n",
    "hours = 200 / 60\n",
    "\n",
    "print(hours)"
   ]
  },
  {
   "cell_type": "markdown",
   "id": "e3f61634",
   "metadata": {},
   "source": [
    "**Author**\n",
    "\n",
    "My name is Sundus Siddique.\n"
   ]
  },
  {
   "cell_type": "code",
   "execution_count": null,
   "id": "d3d8dca9",
   "metadata": {},
   "outputs": [],
   "source": []
  }
 ],
 "metadata": {
  "kernelspec": {
   "display_name": "Python 3 (ipykernel)",
   "language": "python",
   "name": "python3"
  },
  "language_info": {
   "codemirror_mode": {
    "name": "ipython",
    "version": 3
   },
   "file_extension": ".py",
   "mimetype": "text/x-python",
   "name": "python",
   "nbconvert_exporter": "python",
   "pygments_lexer": "ipython3",
   "version": "3.9.13"
  }
 },
 "nbformat": 4,
 "nbformat_minor": 5
}
